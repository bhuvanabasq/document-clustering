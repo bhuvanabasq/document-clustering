{
 "cells": [
  {
   "cell_type": "markdown",
   "metadata": {
    "id": "f74Hp_RDlEXY"
   },
   "source": [
    "This colab notebook will help in understanding the different variations of BERT and how they respond to similarity metric like cosine similarity"
   ]
  },
  {
   "cell_type": "markdown",
   "metadata": {
    "id": "SeowOP5Yr_yL"
   },
   "source": [
    "# Importing the Libraries"
   ]
  },
  {
   "cell_type": "code",
   "execution_count": 2,
   "metadata": {
    "colab": {
     "base_uri": "https://localhost:8080/"
    },
    "id": "v1YXfqe3sGiJ",
    "outputId": "408c6a6a-a04c-45d4-aa82-9f97cf693ea2"
   },
   "outputs": [
    {
     "name": "stderr",
     "output_type": "stream",
     "text": [
      "[nltk_data] Downloading package stopwords to\n",
      "[nltk_data]     C:\\Users\\rmaka\\AppData\\Roaming\\nltk_data...\n",
      "[nltk_data]   Package stopwords is already up-to-date!\n",
      "[nltk_data] Downloading package wordnet to\n",
      "[nltk_data]     C:\\Users\\rmaka\\AppData\\Roaming\\nltk_data...\n",
      "[nltk_data]   Package wordnet is already up-to-date!\n"
     ]
    }
   ],
   "source": [
    "import re\n",
    "# import umap\n",
    "import nltk\n",
    "import numpy as np\n",
    "import pandas as pd\n",
    "import torch\n",
    "import transformers as ppb \n",
    "from collections import Counter\n",
    "import matplotlib.pyplot as plt\n",
    "from sentence_transformers import SentenceTransformer\n",
    "from sklearn.metrics.pairwise import cosine_similarity\n",
    "nltk.download('stopwords')\n",
    "nltk.download('wordnet')\n",
    "stop_words = set(nltk.corpus.stopwords.words('english'))\n",
    "# model = KeyBERT('distilbert-base-nli-mean-tokens')"
   ]
  },
  {
   "cell_type": "code",
   "execution_count": 3,
   "metadata": {
    "id": "7Hr0t0Cf4JkG"
   },
   "outputs": [],
   "source": [
    "model_class, tokenizer_class, pretrained_weights = (ppb.BertModel, ppb.BertTokenizer, 'bert-base-uncased')\n",
    "tokenizer = tokenizer_class.from_pretrained(pretrained_weights)"
   ]
  },
  {
   "cell_type": "code",
   "execution_count": 7,
   "metadata": {
    "id": "JqcMy9Disz24"
   },
   "outputs": [],
   "source": [
    "def prepare_data(stopwords):\n",
    "    try: \n",
    "        df = pd.read_csv('data/raw_data.csv',encoding='ISO-8859-1')\n",
    "    except Exception as e:\n",
    "        print(str(e))\n",
    "\n",
    "    df = df[['Title','Abstract']]\n",
    "    df = df.dropna().drop_duplicates(subset=['Abstract'])\n",
    "    df = df.dropna().drop_duplicates(subset=['Title'])\n",
    "    df['Abstract'] = df['Abstract'].apply(remove_stop_lemmatize, args=(stopwords,))\n",
    "    df = df[df['Abstract'].str.len() > 150].reset_index()\n",
    "    df['index']    = df.index\n",
    "    df['abstract_list'] =  df['Abstract'].apply(lambda x : x.split(' '))\n",
    "    df['abstract_list_len'] =  df['abstract_list'].apply(lambda x : len(x))\n",
    "    df['abstract_list_trunc'] =  df['abstract_list'].apply(lambda x : x[0:400])\n",
    "    df['aabstract_list_trunc_len'] =  df['abstract_list_trunc'].apply(lambda x : len(x))\n",
    "    df['final_text'] = df['abstract_list_trunc'].apply(lambda x : ' '.join(x))\n",
    "    return df\n",
    "\n",
    "def remove_stop_lemmatize(text, stopwords):\n",
    "    text = text.replace('-',' ')\n",
    "    text = re.sub (r'([^a-zA-Z ]+?)', '', text)\n",
    "    if stopwords:\n",
    "        text = text.split(' ')\n",
    "        return ' '.join(lemmatizer.lemmatize(word.lower()) for word in text if word.lower() not in stop_words)\n",
    "    else:\n",
    "        return text"
   ]
  },
  {
   "cell_type": "code",
   "execution_count": 8,
   "metadata": {
    "id": "GGsdQYEkX5dU"
   },
   "outputs": [],
   "source": [
    "n_data = prepare_data(stopwords=False)\n",
    "text = n_data['final_text'][0]\n",
    "marked_text = \"[CLS] \" + text + \" [SEP]\"\n",
    "# Tokenize our sentence with the BERT tokenizer.\n",
    "tokenized_text = tokenizer.tokenize(marked_text)\n",
    "# Print out the tokens.\n",
    "# n_data['final_text'] = \"[CLS] \" + n_data['final_text'] + \" [SEP]\"\n",
    "n_data['tokenized_marked'] = n_data['final_text'].apply((lambda x: tokenizer.tokenize(x)))\n",
    "n_data['tokenized'] = n_data['final_text'].apply((lambda x: tokenizer.encode(x)))\n",
    "max_len = 0\n",
    "for i in n_data['tokenized'].values:\n",
    "    if len(i) > max_len:\n",
    "        max_len = len(i)\n",
    "n_data['tokenized_padded'] = n_data['tokenized'].apply((lambda x: x + ([0]*(max_len - len(x)))))\n",
    "n_data['hashed_tokens'] = n_data['tokenized_marked'].apply((lambda x: [i for i in x if \"##\" in i]))\n",
    "n_data['hashed_tokens_len'] = n_data['hashed_tokens'].apply((lambda x: len(x)))\n",
    "n_data['tokenized_padded_len'] = n_data['tokenized_padded'].apply((lambda x: len(x)))\n",
    "n_data['segment'] = n_data['tokenized'].apply((lambda x: [1 for i in range(len(x))]))\n",
    "n_data['segment_padded'] = n_data['segment'].apply((lambda x: x + ([0]*(max_len - len(x)))))\n",
    "n_data['segment_padded_len'] = n_data['segment_padded'].apply((lambda x: len(x)))\n",
    "# print (tokenized_text)"
   ]
  },
  {
   "cell_type": "markdown",
   "metadata": {
    "id": "7HGDIQtPgtF9"
   },
   "source": [
    "The original word has been split into smaller subwords and characters. This is because Bert Vocabulary is fixed with a size of ~30K tokens. Words that are not part of vocabulary are represented as subwords and characters."
   ]
  },
  {
   "cell_type": "code",
   "execution_count": 9,
   "metadata": {
    "colab": {
     "base_uri": "https://localhost:8080/",
     "height": 335
    },
    "id": "n-BMUocngVGd",
    "outputId": "184ec99d-71ca-4246-afa7-4ccd3d2f8812"
   },
   "outputs": [
    {
     "data": {
      "text/plain": [
       "(array([109., 154., 114.,  58.,  23.,   7.,   0.,   0.,   0.,   1.]),\n",
       " array([  0. ,  10.5,  21. ,  31.5,  42. ,  52.5,  63. ,  73.5,  84. ,\n",
       "         94.5, 105. ]),\n",
       " <a list of 10 Patch objects>)"
      ]
     },
     "execution_count": 9,
     "metadata": {},
     "output_type": "execute_result"
    },
    {
     "data": {
      "image/png": "[encoded data removed]",
      "text/plain": [
       "<Figure size 432x288 with 1 Axes>"
      ]
     },
     "metadata": {
      "needs_background": "light"
     },
     "output_type": "display_data"
    }
   ],
   "source": [
    "plt.hist(n_data['hashed_tokens_len'])"
   ]
  },
  {
   "cell_type": "markdown",
   "metadata": {
    "id": "nZ1JZS8MjPU6"
   },
   "source": [
    "Next we need to convert our data to tensors(input format for the model) and call the BERT model. "
   ]
  },
  {
   "cell_type": "markdown",
   "metadata": {
    "id": "_tp0hBib0RpZ"
   },
   "source": [
    "# Checking various pooling schemes"
   ]
  },
  {
   "cell_type": "code",
   "execution_count": 20,
   "metadata": {
    "id": "34tK5FaQ_ZJK"
   },
   "outputs": [
    {
     "name": "stdout",
     "output_type": "stream",
     "text": [
      "@@@@@@@@@@@@@@@@  Similar pair of text  @@@@@@@@@@@@@@@@@@@@\n",
      "Title of paper DocBERT: BERT for Document Classification\n",
      "Title of paper Publicly Available Clinical BERT Embeddings\n",
      "---------------------------------------------------------------------------------\n",
      "Title of paper SciBERT: Pretrained Contextualized Embeddings for Scientific Text\n",
      "Title of paper BERT: Pre-training of Deep Bidirectional Transformers for Language Understanding\n",
      "---------------------------------------------------------------------------------\n",
      "Title of paper The Illustrated BERT, ELMo, and co. (How NLP Cracked Transfer Learning)\n",
      "Title of paper ELMo Meet BERT: Recent Advances in Natural Language Embeddings\n",
      "---------------------------------------------------------------------------------\n",
      "Title of paper WordRank: Learning Word Embeddings via Robust Ranking\n",
      "Title of paper Combining Contextualized Embeddings and Prior Knowledge for Clinical Named Entity Recognition: Evaluation Study\n",
      "---------------------------------------------------------------------------------\n",
      "@@@@@@@@@@@@@@@  Dissimilar pair of text   @@@@@@@@@@@@@@@@@@\n",
      "Title of paper DocBERT: BERT for Document Classification\n",
      "Title of paper Two public chest X-ray datasets for computer-aided screening of pulmonary diseases\n",
      "---------------------------------------------------------------------------------\n",
      "Title of paper Language Models are Few-Shot Learners\n",
      "Title of paper PadChest: A large chest x-ray image dataset with multi-label annotated reports\n",
      "---------------------------------------------------------------------------------\n",
      "Title of paper Studying the Wikipedia Hyperlink Graph for Relatedness and Disambiguation\n",
      "Title of paper Visual Exploration of Neural Document Embedding in Information Retrieval: Semantics and Feature Selection\n",
      "---------------------------------------------------------------------------------\n",
      "Title of paper DocBERT: BERT for Document Classification\n",
      "Title of paper Studying the Wikipedia Hyperlink Graph for Relatedness and Disambiguation\n",
      "---------------------------------------------------------------------------------\n"
     ]
    }
   ],
   "source": [
    "# preparing the test data for the \n",
    "similar_set    = [[0,5],[17,57],[424,426],[120,121]]\n",
    "dissimilar_set = [[0,115],[26,28],[1,119],[0,1]]\n",
    "print('@@@@@@@@@@@@@@@@  Similar pair of text  @@@@@@@@@@@@@@@@@@@@')\n",
    "similar_dict = {}\n",
    "count = 1 \n",
    "for i in similar_set:\n",
    "    similar_dict[count] = {}\n",
    "    similar_dict[count][i[0]] = {}\n",
    "    similar_dict[count][i[1]] = {}\n",
    "    for j in i:\n",
    "        print('Title of paper {}'.format(n_data['Title'][j]))\n",
    "        similar_dict[count][j]['token']  = torch.tensor(np.array([i  for i in n_data['tokenized_padded'][j]]).reshape(1,len(n_data['tokenized_padded'][j]))).to(torch.int64) \n",
    "        similar_dict[count][j]['att']    = torch.tensor(np.array([i  for i in n_data['segment_padded'][j]]).reshape(1,len(n_data['segment_padded'][j]))).to(torch.int64) \n",
    "    count = count + 1\n",
    "    print('---------------------------------------------------------------------------------')\n",
    "\n",
    "print('@@@@@@@@@@@@@@@  Dissimilar pair of text   @@@@@@@@@@@@@@@@@@')\n",
    "dissimilar_dict = {}\n",
    "count = 1 \n",
    "for i in dissimilar_set:\n",
    "    dissimilar_dict[count] = {}\n",
    "    dissimilar_dict[count][i[0]] = {}\n",
    "    dissimilar_dict[count][i[1]] = {}\n",
    "    for j in i:\n",
    "        print('Title of paper {}'.format(n_data['Title'][j]))\n",
    "        dissimilar_dict[count][j]['token']  = torch.tensor(np.array([i  for i in n_data['tokenized_padded'][j]]).reshape(1,len(n_data['tokenized_padded'][j]))).to(torch.int64) \n",
    "        dissimilar_dict[count][j]['att']    = torch.tensor(np.array([i  for i in n_data['segment_padded'][j]]).reshape(1,len(n_data['segment_padded'][j]))).to(torch.int64) \n",
    "    count = count + 1\n",
    "    print('---------------------------------------------------------------------------------')"
   ]
  },
  {
   "cell_type": "code",
   "execution_count": 11,
   "metadata": {
    "colab": {
     "base_uri": "https://localhost:8080/"
    },
    "id": "71omlfT24V_i",
    "outputId": "ccd6cd0b-b010-4856-90c0-e50aa2a4a27f"
   },
   "outputs": [
    {
     "name": "stdout",
     "output_type": "stream",
     "text": [
      "Put the model in \"evaluation\" mode, meaning feed-forward operation.\n",
      "Number of layers: 13   (initial embeddings + 12 BERT layers)\n",
      "Number of batches: 1\n",
      "Number of tokens: 503\n",
      "Number of hidden units: 768\n"
     ]
    }
   ],
   "source": [
    "# Put the model in \"evaluation\" mode, meaning feed-forward operation.\n",
    "\n",
    "model = model_class.from_pretrained(pretrained_weights,output_hidden_states = True)\n",
    "model.eval()\n",
    "print('Put the model in \"evaluation\" mode, meaning feed-forward operation.')\n",
    "tokens_tensor = torch.tensor(np.array([i  for i in n_data['tokenized_padded'][0]]).reshape(1,len(n_data['tokenized_padded'][0]))).to(torch.int64) \n",
    "segments_tensors = torch.tensor(np.array([i  for i in n_data['segment_padded'][0]]).reshape(1,len(n_data['segment_padded'][0])))\n",
    "with torch.no_grad():\n",
    "    outputs = model(tokens_tensor, segments_tensors)\n",
    "hidden_states  = outputs[2] #Hidden layer are nothing but encoders\n",
    "\n",
    "print (\"Number of layers:\", len(hidden_states), \"  (initial embeddings + 12 BERT layers)\")\n",
    "layer_i = 0\n",
    "print (\"Number of batches:\", len(hidden_states[layer_i]))\n",
    "batch_i = 0\n",
    "print (\"Number of tokens:\", len(hidden_states[layer_i][batch_i]))\n",
    "token_i = 0\n",
    "print (\"Number of hidden units:\", len(hidden_states[layer_i][batch_i][token_i]))"
   ]
  },
  {
   "cell_type": "markdown",
   "metadata": {
    "id": "Skf0yY8gQF9f"
   },
   "source": [
    "\n",
    "\n",
    "We would like to get individual vectors for each of our tokens, or perhaps a single vector representation of the whole sentence, but for each token of our input we have 13 separate vectors each of length 768"
   ]
  },
  {
   "cell_type": "markdown",
   "metadata": {
    "id": "c5rY6x6b0YtY"
   },
   "source": [
    "## Concating the last 4 layers"
   ]
  },
  {
   "cell_type": "code",
   "execution_count": 12,
   "metadata": {
    "id": "Q7hnLnGdmLLm"
   },
   "outputs": [],
   "source": [
    "def concat_ll(tokens_tensor, segments_tensors):\n",
    "    with torch.no_grad():\n",
    "        outputs = model(tokens_tensor, segments_tensors)\n",
    "    hidden_states  = outputs[2]\n",
    "    # Concatenating last four hidden layers\n",
    "    cat_vec  = torch.cat((hidden_states[-1][0], hidden_states[-2][0], hidden_states[-3][0], hidden_states[-4][0]), dim=1)[0]\n",
    "    # print(cat_vec.size())\n",
    "    return cat_vec"
   ]
  },
  {
   "cell_type": "code",
   "execution_count": 14,
   "metadata": {
    "colab": {
     "base_uri": "https://localhost:8080/"
    },
    "id": "9frqqEATzYsT",
    "outputId": "f1e40b1d-2092-42e7-d106-b1135b62daab"
   },
   "outputs": [
    {
     "name": "stdout",
     "output_type": "stream",
     "text": [
      "[0.918615, 0.91495407, 0.8795309, 0.92155516]\n",
      "mean of set is 0.9086637794971466\n"
     ]
    }
   ],
   "source": [
    "similarity_score_list = []\n",
    "for key, value in similar_dict.items():\n",
    "    temp = []\n",
    "    for key_2, value_2 in similar_dict[key].items():\n",
    "        temp.append(concat_ll(tokens_tensor = similar_dict[key][key_2]['token'], segments_tensors= similar_dict[key][key_2]['att']).reshape(1,3072))\n",
    "    similarity_score_list.append(cosine_similarity(temp[0], temp[1])[0][0])\n",
    "    \n",
    "print(similarity_score_list)\n",
    "print('mean of set is {}'.format(sum(similarity_score_list)/len(similarity_score_list)))"
   ]
  },
  {
   "cell_type": "code",
   "execution_count": 15,
   "metadata": {
    "colab": {
     "base_uri": "https://localhost:8080/"
    },
    "id": "N611VF9t0iBv",
    "outputId": "eed01b7b-4340-4dfd-f0de-87ee89dc67ae"
   },
   "outputs": [
    {
     "name": "stdout",
     "output_type": "stream",
     "text": [
      "[0.77199185, 0.8961681, 0.9235461, 0.92355657]\n",
      "mean of set is 0.8788156509399414\n"
     ]
    }
   ],
   "source": [
    "dissimilarity_score_list =[]\n",
    "for key, value in dissimilar_dict.items():\n",
    "    temp = []\n",
    "    for key_2, value_2 in dissimilar_dict[key].items():\n",
    "        temp.append(concat_ll(tokens_tensor = dissimilar_dict[key][key_2]['token'], segments_tensors= dissimilar_dict[key][key_2]['att']).reshape(1,3072))\n",
    "    dissimilarity_score_list.append(cosine_similarity(temp[0], temp[1])[0][0])\n",
    "print(dissimilarity_score_list)\n",
    "print('mean of set is {}'.format(sum(dissimilarity_score_list)/len(dissimilarity_score_list)))"
   ]
  },
  {
   "cell_type": "markdown",
   "metadata": {
    "id": "gNZps9bm02Zj"
   },
   "source": [
    "## Taking mean of Last hidden Layer "
   ]
  },
  {
   "cell_type": "code",
   "execution_count": 16,
   "metadata": {
    "id": "xoLoQYb7yWm6"
   },
   "outputs": [],
   "source": [
    "def mean_ll(tokens_tensor, segments_tensors):\n",
    "    with torch.no_grad():\n",
    "        outputs = model(tokens_tensor, segments_tensors)\n",
    "    hidden_states  = outputs[2]\n",
    "    mean_vec  = torch.mean(hidden_states[-1][0], dim=0)\n",
    "  # print(mean_vec.size())\n",
    "    return mean_vec"
   ]
  },
  {
   "cell_type": "code",
   "execution_count": 17,
   "metadata": {
    "colab": {
     "base_uri": "https://localhost:8080/"
    },
    "id": "k9FajpfaxQc-",
    "outputId": "dc8d2cda-9dc9-4986-ba9c-a127e66aa690"
   },
   "outputs": [
    {
     "name": "stdout",
     "output_type": "stream",
     "text": [
      "[0.92876005, 0.93804026, 0.91405797, 0.90509796]\n",
      "mean of set is 0.9214890599250793\n"
     ]
    }
   ],
   "source": [
    "similarity_score_list =[]\n",
    "for key, value in similar_dict.items():\n",
    "    temp = []\n",
    "    for key_2, value_2 in similar_dict[key].items():\n",
    "        temp.append(mean_ll(tokens_tensor = similar_dict[key][key_2]['token'], segments_tensors= similar_dict[key][key_2]['att']).reshape(1,768))\n",
    "    similarity_score_list.append(cosine_similarity(temp[0], temp[1])[0][0])\n",
    "print(similarity_score_list)\n",
    "print('mean of set is {}'.format(sum(similarity_score_list)/len(similarity_score_list)))"
   ]
  },
  {
   "cell_type": "code",
   "execution_count": 21,
   "metadata": {
    "colab": {
     "base_uri": "https://localhost:8080/"
    },
    "id": "frOJyxShFzEd",
    "outputId": "c621ba86-2569-4811-b9bc-8dd0d09316e8"
   },
   "outputs": [
    {
     "name": "stdout",
     "output_type": "stream",
     "text": [
      "[0.8232513, 0.87436557, 0.9059862, 0.93921506]\n",
      "mean of set is 0.8857045322656631\n"
     ]
    }
   ],
   "source": [
    "dissimilarity_score_list =[]\n",
    "for key, value in dissimilar_dict.items():\n",
    "    temp = []\n",
    "    for key_2, value_2 in dissimilar_dict[key].items():\n",
    "        temp.append(mean_ll(tokens_tensor = dissimilar_dict[key][key_2]['token'], segments_tensors= dissimilar_dict[key][key_2]['att']).reshape(1,768))\n",
    "    dissimilarity_score_list.append(cosine_similarity(temp[0], temp[1])[0][0])\n",
    "print(dissimilarity_score_list)\n",
    "print('mean of set is {}'.format(sum(dissimilarity_score_list)/len(dissimilarity_score_list)))"
   ]
  },
  {
   "cell_type": "markdown",
   "metadata": {
    "id": "Ivszval91HAB"
   },
   "source": [
    "## Last Hidden layer [CLS] token"
   ]
  },
  {
   "cell_type": "code",
   "execution_count": 29,
   "metadata": {
    "id": "EkyBMjj91JYW"
   },
   "outputs": [],
   "source": [
    "try: \n",
    "    df_bbw = pd.read_csv('data/Bert_base_weights.csv',header=None)\n",
    "except Exception as e:\n",
    "    print(str(e))\n",
    "\n",
    "for i in range(768):\n",
    "    df_bbw[i] = df_bbw[i].apply(lambda x : float(str(x).split(',')[0].replace('tensor(','')))\n",
    "\n",
    "bert_base_embeddings = np.array(df_bbw)"
   ]
  },
  {
   "cell_type": "code",
   "execution_count": 30,
   "metadata": {
    "colab": {
     "base_uri": "https://localhost:8080/"
    },
    "id": "ylegq65AREDE",
    "outputId": "2daaaf61-bb87-4ec8-b7e3-7e7e222f48f6"
   },
   "outputs": [
    {
     "name": "stdout",
     "output_type": "stream",
     "text": [
      "[array([[1.        , 0.96574789],\n",
      "       [0.96574789, 1.        ]]), array([[1.        , 0.96148354],\n",
      "       [0.96148354, 1.        ]]), array([[1.        , 0.89703129],\n",
      "       [0.89703129, 1.        ]]), array([[1.        , 0.96220083],\n",
      "       [0.96220083, 1.        ]])]\n",
      "mean of set is [[1.         0.94661589]\n",
      " [0.94661589 1.        ]]\n"
     ]
    }
   ],
   "source": [
    "similarity_score_list = []\n",
    "\n",
    "for i in similar_set:\n",
    "    a = []\n",
    "    a.append(bert_base_embeddings[i[0]])\n",
    "    a.append(bert_base_embeddings[i[1]])\n",
    "    similarity_score_list.append(cosine_similarity(a))\n",
    "\n",
    "print(similarity_score_list)\n",
    "print('mean of set is {}'.format(sum(similarity_score_list)/len(similarity_score_list)))"
   ]
  },
  {
   "cell_type": "code",
   "execution_count": 31,
   "metadata": {
    "colab": {
     "base_uri": "https://localhost:8080/"
    },
    "id": "zuN4ohUJ6qKV",
    "outputId": "61547ce3-eae4-49b9-a621-b67c1e6189d5"
   },
   "outputs": [
    {
     "name": "stdout",
     "output_type": "stream",
     "text": [
      "[array([[1.        , 0.87646429],\n",
      "       [0.87646429, 1.        ]]), array([[1.        , 0.92396005],\n",
      "       [0.92396005, 1.        ]]), array([[1.        , 0.95796996],\n",
      "       [0.95796996, 1.        ]]), array([[1.        , 0.97760222],\n",
      "       [0.97760222, 1.        ]])]\n",
      "mean of set is [[1.         0.93399913]\n",
      " [0.93399913 1.        ]]\n"
     ]
    }
   ],
   "source": [
    "dissimilarity_score_list = []\n",
    "for i in dissimilar_set:\n",
    "    a = []\n",
    "    a.append(bert_base_embeddings[i[0]])\n",
    "    a.append(bert_base_embeddings[i[1]])\n",
    "    dissimilarity_score_list.append(cosine_similarity(a))\n",
    "\n",
    "print(dissimilarity_score_list)\n",
    "print('mean of set is {}'.format(sum(dissimilarity_score_list)/len(dissimilarity_score_list)))"
   ]
  },
  {
   "cell_type": "markdown",
   "metadata": {
    "id": "PTbS_iPk6tcx"
   },
   "source": [
    "## SBERT"
   ]
  },
  {
   "cell_type": "code",
   "execution_count": 23,
   "metadata": {
    "id": "lzNro1T_IXe2"
   },
   "outputs": [
    {
     "data": {
      "application/vnd.jupyter.widget-view+json": {
       "model_id": "91118bf6e4e649ce918ed33dc3f9590e",
       "version_major": 2,
       "version_minor": 0
      },
      "text/plain": [
       "HBox(children=(FloatProgress(value=0.0, max=244715968.0), HTML(value='')))"
      ]
     },
     "metadata": {},
     "output_type": "display_data"
    },
    {
     "name": "stdout",
     "output_type": "stream",
     "text": [
      "\n"
     ]
    }
   ],
   "source": [
    "from transformers import AutoTokenizer, AutoModel\n",
    "import torch\n",
    "s_bert_model = SentenceTransformer('distilbert-base-nli-stsb-mean-tokens')\n",
    "s_bert_model.max_seq_length = 400"
   ]
  },
  {
   "cell_type": "code",
   "execution_count": 24,
   "metadata": {
    "id": "6X61Yn_lI453"
   },
   "outputs": [],
   "source": [
    "similarity_score_list = []\n",
    "for i in similar_set:\n",
    "    a= []\n",
    "    a.append(s_bert_model.encode(n_data['final_text'].iloc[i[0]]))\n",
    "    a.append(s_bert_model.encode(n_data['final_text'].iloc[i[1]]))\n",
    "    similarity_score_list.append(cosine_similarity(a))"
   ]
  },
  {
   "cell_type": "code",
   "execution_count": 25,
   "metadata": {
    "colab": {
     "base_uri": "https://localhost:8080/"
    },
    "id": "jeggVBADKdw5",
    "outputId": "bf2ca40d-c68b-47d9-b471-02ed0dcea799"
   },
   "outputs": [
    {
     "name": "stdout",
     "output_type": "stream",
     "text": [
      "[array([[1.0000002, 0.8064753],\n",
      "       [0.8064753, 0.9999998]], dtype=float32), array([[1.0000001 , 0.74272776],\n",
      "       [0.74272776, 1.        ]], dtype=float32), array([[1.0000001 , 0.57347536],\n",
      "       [0.57347536, 0.9999999 ]], dtype=float32), array([[1.0000001, 0.7342792],\n",
      "       [0.7342792, 1.0000001]], dtype=float32)]\n",
      "mean of set is [[1.0000001  0.71423936]\n",
      " [0.71423936 0.9999999 ]]\n"
     ]
    }
   ],
   "source": [
    "print(similarity_score_list)\n",
    "print('mean of set is {}'.format(sum(similarity_score_list)/len(similarity_score_list)))"
   ]
  },
  {
   "cell_type": "code",
   "execution_count": 26,
   "metadata": {
    "id": "ryE26KaUKKQZ"
   },
   "outputs": [],
   "source": [
    "dissimilarity_score_list = []\n",
    "for i in dissimilar_set:\n",
    "    a= []\n",
    "    a.append(s_bert_model.encode(n_data['final_text'].iloc[i[0]]))\n",
    "    a.append(s_bert_model.encode(n_data['final_text'].iloc[i[1]]))\n",
    "\n",
    "    dissimilarity_score_list.append(cosine_similarity(a))"
   ]
  },
  {
   "cell_type": "code",
   "execution_count": 28,
   "metadata": {
    "colab": {
     "base_uri": "https://localhost:8080/"
    },
    "id": "pB4F2fqTKq74",
    "outputId": "17bf428c-be4c-43cf-c546-fd5b1cdc1bdc"
   },
   "outputs": [
    {
     "name": "stdout",
     "output_type": "stream",
     "text": [
      "[array([[1.0000002, 0.3565308],\n",
      "       [0.3565308, 0.9999995]], dtype=float32), array([[1.0000001, 0.6481657],\n",
      "       [0.6481657, 1.0000002]], dtype=float32), array([[0.99999976, 0.6214295 ],\n",
      "       [0.6214295 , 1.        ]], dtype=float32), array([[1.0000002 , 0.37555385],\n",
      "       [0.37555385, 0.99999976]], dtype=float32)]\n",
      "mean of set is [[1.0000001 0.50042  ]\n",
      " [0.50042   0.9999999]]\n"
     ]
    }
   ],
   "source": [
    "print(dissimilarity_score_list)\n",
    "print('mean of set is {}'.format(sum(dissimilarity_score_list)/len(dissimilarity_score_list)))"
   ]
  },
  {
   "cell_type": "code",
   "execution_count": null,
   "metadata": {
    "id": "HHbTOp0x5-kd"
   },
   "outputs": [],
   "source": []
  }
 ],
 "metadata": {
  "colab": {
   "name": "BERT_base_knowledge_colab.ipynb",
   "provenance": [],
   "toc_visible": true
  },
  "kernelspec": {
   "display_name": "Python 3",
   "language": "python",
   "name": "python3"
  },
  "language_info": {
   "codemirror_mode": {
    "name": "ipython",
    "version": 3
   },
   "file_extension": ".py",
   "mimetype": "text/x-python",
   "name": "python",
   "nbconvert_exporter": "python",
   "pygments_lexer": "ipython3",
   "version": "3.7.6"
  }
 },
 "nbformat": 4,
 "nbformat_minor": 1
}
